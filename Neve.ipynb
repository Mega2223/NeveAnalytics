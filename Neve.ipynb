{
  "nbformat": 4,
  "nbformat_minor": 0,
  "metadata": {
    "colab": {
      "provenance": []
    },
    "kernelspec": {
      "name": "python3",
      "display_name": "Python 3"
    },
    "language_info": {
      "name": "python"
    }
  },
  "cells": [
    {
      "cell_type": "code",
      "source": [
        "import ee\n",
        "import pandas as pd\n",
        "import numpy as np\n",
        "import matplotlib.pyplot as plt\n",
        "import subprocess\n",
        "\n",
        "import os\n",
        "import time\n",
        "import datetime\n",
        "import calendar\n",
        "from typing import Tuple\n",
        "\n",
        "import geemap\n",
        "\n",
        "ee.Authenticate()\n",
        "ee.Initialize(project='ee-juliocesarborgesdeoliv-neve')\n",
        "\n",
        "data = {}"
      ],
      "metadata": {
        "id": "FHZD2b5nHX-3",
        "colab": {
          "base_uri": "https://localhost:8080/",
          "height": 17
        },
        "outputId": "3cbccda9-f404-42c3-968c-66cf336c3884"
      },
      "execution_count": null,
      "outputs": [
        {
          "output_type": "display_data",
          "data": {
            "text/plain": [
              "<IPython.core.display.HTML object>"
            ],
            "text/html": [
              "\n",
              "            <style>\n",
              "                .geemap-dark {\n",
              "                    --jp-widgets-color: white;\n",
              "                    --jp-widgets-label-color: white;\n",
              "                    --jp-ui-font-color1: white;\n",
              "                    --jp-layout-color2: #454545;\n",
              "                    background-color: #383838;\n",
              "                }\n",
              "\n",
              "                .geemap-dark .jupyter-button {\n",
              "                    --jp-layout-color3: #383838;\n",
              "                }\n",
              "\n",
              "                .geemap-colab {\n",
              "                    background-color: var(--colab-primary-surface-color, white);\n",
              "                }\n",
              "\n",
              "                .geemap-colab .jupyter-button {\n",
              "                    --jp-layout-color3: var(--colab-primary-surface-color, white);\n",
              "                }\n",
              "            </style>\n",
              "            "
            ]
          },
          "metadata": {}
        }
      ]
    },
    {
      "cell_type": "code",
      "source": [
        "def calcNDSI(img):\n",
        "    # print(\"bands=\",img.bandNames().getInfo())\n",
        "    # ndsi = img.select('GREEN').subtract(img.select('INFRARED')).divide(img.select('GREEN').add(img.select('INFRARED'))).rename('NDSI')\n",
        "    ndsi = img.normalizedDifference(['GREEN','INFRARED']).rename('NDSI')\n",
        "    mask = img.expression('(1 != (b(\"QA_PIXEL\")==22280)+(b(\"QA_PIXEL\")==24088)+(b(\"QA_PIXEL\")==24216)+(b(\"QA_PIXEL\")==24344)+(b(\"QA_PIXEL\")==24472)+(b(\"QA_PIXEL\")==55052))').rename('MASK')\n",
        "    ret = ndsi.updateMask(mask)\n",
        "    return ret, mask, ndsi\n",
        "\n",
        "def get_landsat_images(min_date: datetime.date, max_date: datetime.date, study_area_broad) -> ee.ImageCollection:\n",
        "  min_date_str = min_date.strftime(\"%Y-%m-%d\")\n",
        "  max_date_str = max_date.strftime(\"%Y-%m-%d\")\n",
        "  # print(min_date_str); print(max_date_str);\n",
        "\n",
        "  landsat_8 = ee.ImageCollection(\"LANDSAT/LC08/C02/T1_L2\").filterBounds(study_area_broad).sort(\"CLOUD_COVER\")\n",
        "  landsat_8 = landsat_8.select(['SR_B3', 'SR_B6', 'QA_PIXEL'],['GREEN', 'INFRARED', 'QA_PIXEL'])\n",
        "\n",
        "  landsat_9 = ee.ImageCollection(\"LANDSAT/LC09/C02/T1_L2\").filterBounds(study_area_broad).sort(\"CLOUD_COVER\")\n",
        "  landsat_9 = landsat_9.select(['SR_B3', 'SR_B6', 'QA_PIXEL'],['GREEN', 'INFRARED', 'QA_PIXEL'])\n",
        "\n",
        "  landsat_7 = ee.ImageCollection(\"LANDSAT/LE07/C02/T1_L2\").filterBounds(study_area_broad).sort(\"CLOUD_COVER\")\n",
        "  landsat_7 = landsat_7.select(['SR_B2', 'SR_B5', 'QA_PIXEL'],['GREEN', 'INFRARED', 'QA_PIXEL'])\n",
        "\n",
        "  landsat_5 = ee.ImageCollection(\"LANDSAT/LT05/C02/T1_L2\").filterBounds(study_area_broad).sort(\"CLOUD_COVER\")\n",
        "  landsat_5 = landsat_5.select(['SR_B2', 'SR_B5', 'QA_PIXEL'],['GREEN', 'INFRARED', 'QA_PIXEL'])\n",
        "\n",
        "  landsat_4 = ee.ImageCollection(\"LANDSAT/LT04/C02/T1_L2\").filterBounds(study_area_broad).sort(\"CLOUD_COVER\")\n",
        "  landsat_4 = landsat_4.select(['SR_B2', 'SR_B5', 'QA_PIXEL'],['GREEN', 'INFRARED', 'QA_PIXEL'])\n",
        "\n",
        "  all_landsat = landsat_8.merge(landsat_9).merge(landsat_5).merge(landsat_4).merge(landsat_7).filterDate(min_date_str,max_date_str)\n",
        "  all_landsat = all_landsat.filter(ee.Filter.calendarRange(6,18,'hour'))\n",
        "  return all_landsat\n",
        "\n",
        "\n",
        "def export_image(img, name, folder, study_area, description='NDSI'):\n",
        "  print(\"saving\",name)\n",
        "  projection = img.projection().getInfo()\n",
        "  task = ee.batch.Export.image.toDrive(\n",
        "    image=img.clip(study_area),\n",
        "    description=description,\n",
        "    folder=folder,\n",
        "    fileNamePrefix=name,\n",
        "    region=study_area.geometry(),\n",
        "    scale=30,\n",
        "    crs='EPSG:32618'\n",
        "    )\n",
        "  task.start()\n",
        "\n",
        "def gen_NDSIs(min_date:datetime.date, max_date:datetime.date, export = True, limit = None, list_images = True) -> list:\n",
        "  imgs_range = []\n",
        "  str_range: str = str(min_date) + \" -> \" + str(max_date)\n",
        "  print(\"Range (\" + str_range + \")\")\n",
        "  images: ee.ImageCollection = get_landsat_images(min_date, max_date,study_area_broad)\n",
        "  if limit != None: images = images.limit(limit)\n",
        "  img_list = images.toList(len(images.getInfo()['features']))\n",
        "  count = len(images.getInfo()['features'])\n",
        "  print(\"found\",count,\"images\")\n",
        "  if count == 0: return None\n",
        "  info = images.getInfo()\n",
        "  for i in range(0,count):\n",
        "    if list_images: print(\"Found\",images.getInfo()['features'][i]['id'])\n",
        "    img = ee.Image(img_list.get(i)).clip(study_area_broad)\n",
        "    img_ndsi, mask, original = calcNDSI(img)\n",
        "    imgs_range.append(img_ndsi)\n",
        "  imgs_range = ee.ImageCollection(imgs_range)\n",
        "  local_mean = imgs_range.mean()\n",
        "  filename = \"NDSI_\"+str_range\n",
        "  data[filename] = imgs_range.mean()\n",
        "  if export: export_image(local_mean, filename, \"NDSI_IMGS\", study_area_broad, description='NDSI_'+str_range.replace('->','to'))\n",
        "  return imgs_range\n",
        "\n",
        "def gen_coverage(min_date:datetime.date, max_date:datetime.date, export = True, limit = None, threashold = 0.4):\n",
        "  imgs_range = gen_NDSIs(min_date, max_date, export=False, limit=limit)\n",
        "  if imgs_range == None: return None\n",
        "  img = imgs_range.mean().gt(threashold)\n",
        "  str_range: str = str(min_date) + \" -> \" + str(max_date)\n",
        "  filename = \"NDSI_CVRG_\"+str_range\n",
        "  if export: export_image(img, filename, \"NDSI_CVRG\", study_area_broad, description='NDSI_CVRG_'+str_range.replace('->','to'))\n",
        "  data[filename] = img\n",
        "  return img\n"
      ],
      "metadata": {
        "colab": {
          "base_uri": "https://localhost:8080/",
          "height": 17
        },
        "id": "x8h-NYtdRvdf",
        "outputId": "f6bd81a2-e64b-43a8-e25d-9daceef62924"
      },
      "execution_count": null,
      "outputs": [
        {
          "output_type": "display_data",
          "data": {
            "text/plain": [
              "<IPython.core.display.HTML object>"
            ],
            "text/html": [
              "\n",
              "            <style>\n",
              "                .geemap-dark {\n",
              "                    --jp-widgets-color: white;\n",
              "                    --jp-widgets-label-color: white;\n",
              "                    --jp-ui-font-color1: white;\n",
              "                    --jp-layout-color2: #454545;\n",
              "                    background-color: #383838;\n",
              "                }\n",
              "\n",
              "                .geemap-dark .jupyter-button {\n",
              "                    --jp-layout-color3: #383838;\n",
              "                }\n",
              "\n",
              "                .geemap-colab {\n",
              "                    background-color: var(--colab-primary-surface-color, white);\n",
              "                }\n",
              "\n",
              "                .geemap-colab .jupyter-button {\n",
              "                    --jp-layout-color3: var(--colab-primary-surface-color, white);\n",
              "                }\n",
              "            </style>\n",
              "            "
            ]
          },
          "metadata": {}
        }
      ]
    },
    {
      "cell_type": "code",
      "execution_count": null,
      "metadata": {
        "id": "vqwGt8nWSiDr"
      },
      "outputs": [],
      "source": [
        "print(\"Olá mundo\")\n",
        "# TODO salva tudo num dict\n",
        "study_area_broad = ee.FeatureCollection('projects/ee-juliocesarborgesdeoliv-neve/assets/SanRafael')\n",
        "i = 0\n",
        "\n",
        "export_year, export_station = True, False\n",
        "\n",
        "for year in range(2002, 2003):\n",
        "  print(\"\\nYear {:04d}:\\n\".format(year))\n",
        "  if export_year:\n",
        "    print(\"TOTAL:\")\n",
        "    local_mean = gen_NDSIs(datetime.date(year,1,1),datetime.date(year,12,31)).mean()\n",
        "  if export_station:\n",
        "    print(\"STATIONS:\")\n",
        "    print(\"SUMMER:\")\n",
        "    gen_NDSIs(datetime.date(year-1,12,21),datetime.date(year,3,20))\n",
        "    print(\"FALL:\")\n",
        "    gen_NDSIs(datetime.date(year,3,21),datetime.date(year,6,20))\n",
        "    print(\"WINTER:\")\n",
        "    gen_NDSIs(datetime.date(year,6,21),datetime.date(year,9,22))\n",
        "    print(\"SPRING:\")\n",
        "    gen_NDSIs(datetime.date(year,9,23),datetime.date(year,12,20))"
      ]
    },
    {
      "cell_type": "code",
      "source": [
        "print(\"Olá mundo 2\")\n",
        "# TODO salva tudo num dict\n",
        "study_area_broad = ee.FeatureCollection('projects/ee-juliocesarborgesdeoliv-neve/assets/SanRafael')\n",
        "i = 0\n",
        "\n",
        "export_year, export_station = True, False\n",
        "\n",
        "for year in range(1999, 2024):\n",
        "  print(\"\\nYear {:04d}:\\n\".format(year))\n",
        "  if export_year:\n",
        "    print(\"TOTAL:\")\n",
        "    gen_coverage(datetime.date(year,1,1),datetime.date(year,12,31),limit=40)\n",
        "  if export_station:\n",
        "    print(\"STATIONS:\")\n",
        "    print(\"SUMMER:\")\n",
        "    gen_coverage(datetime.date(year-1,12,21),datetime.date(year,3,20))\n",
        "    print(\"FALL:\")\n",
        "    gen_coverage(datetime.date(year,3,21),datetime.date(year,6,20))\n",
        "    print(\"WINTER:\")\n",
        "    gen_coverage(datetime.date(year,6,21),datetime.date(year,9,22))\n",
        "    print(\"SPRING:\")\n",
        "    gen_coverage(datetime.date(year,9,23),datetime.date(year,12,20))\n"
      ],
      "metadata": {
        "id": "aIE9n74QatJe"
      },
      "execution_count": null,
      "outputs": []
    },
    {
      "cell_type": "code",
      "source": [
        "study_area_broad = ee.FeatureCollection('projects/ee-juliocesarborgesdeoliv-neve/assets/SanRafael')\n",
        "gen_coverage(datetime.date(1998,1,1),datetime.date(2005,12,31))\n",
        "gen_coverage(datetime.date(2006,1,1),datetime.date(2014,12,31))\n",
        "gen_coverage(datetime.date(2015,1,1),datetime.date(2023,12,31))"
      ],
      "metadata": {
        "colab": {
          "base_uri": "https://localhost:8080/",
          "height": 17
        },
        "id": "GfTnSCllNKj6",
        "outputId": "f7237289-59cf-4800-cace-9f1a28ac706a"
      },
      "execution_count": null,
      "outputs": [
        {
          "output_type": "display_data",
          "data": {
            "text/plain": [
              "<IPython.core.display.HTML object>"
            ],
            "text/html": [
              "\n",
              "            <style>\n",
              "                .geemap-dark {\n",
              "                    --jp-widgets-color: white;\n",
              "                    --jp-widgets-label-color: white;\n",
              "                    --jp-ui-font-color1: white;\n",
              "                    --jp-layout-color2: #454545;\n",
              "                    background-color: #383838;\n",
              "                }\n",
              "\n",
              "                .geemap-dark .jupyter-button {\n",
              "                    --jp-layout-color3: #383838;\n",
              "                }\n",
              "\n",
              "                .geemap-colab {\n",
              "                    background-color: var(--colab-primary-surface-color, white);\n",
              "                }\n",
              "\n",
              "                .geemap-colab .jupyter-button {\n",
              "                    --jp-layout-color3: var(--colab-primary-surface-color, white);\n",
              "                }\n",
              "            </style>\n",
              "            "
            ]
          },
          "metadata": {}
        }
      ]
    },
    {
      "cell_type": "code",
      "source": [
        "print('DATA:')\n",
        "for i in data: print(i)"
      ],
      "metadata": {
        "id": "5sBYcmA5NHzJ"
      },
      "execution_count": null,
      "outputs": []
    },
    {
      "cell_type": "code",
      "source": [
        "gen_coverage(datetime.date(2000,1,1),datetime.date(2000,12,31),export = False)\n",
        "gen_coverage(datetime.date(2005,1,1),datetime.date(2005,12,31),export = False)\n",
        "gen_coverage(datetime.date(2010,1,1),datetime.date(2010,12,31),export = False)\n",
        "gen_coverage(datetime.date(2020,1,1),datetime.date(2020,12,31),export = False)\n"
      ],
      "metadata": {
        "id": "oPDHM0ALKOdQ"
      },
      "execution_count": null,
      "outputs": []
    },
    {
      "cell_type": "code",
      "source": [
        "map = geemap.Map(center=[-46.5330, -75.0132], zoom=8)\n",
        "\n",
        "map.add_layer(study_area_broad, {}, 'area')\n",
        "\n",
        "def show_year(year: int, NDSI = True, COVERAGE = True):\n",
        "  if NDSI: map.add_layer(data['NDSI_{:04d}-01-01 -> {:04d}-12-31'.format(year,year)], {min: -0, max: .5}, 'NDSI {:04d}'.format(year))\n",
        "  if COVERAGE: map.add_layer(data['NDSI_CVRG_{:04d}-01-01 -> {:04d}-12-31'.format(year,year)], {}, 'SNOW {:04d}'.format(year))\n",
        "\n",
        "# for i in range(1998,2023,3):\n",
        "#   show_year(i,NDSI=False)\n",
        "show_year(1999,NDSI=True,COVERAGE=False)\n",
        "show_year(2001,NDSI=True,COVERAGE=False)\n",
        "show_year(2005,NDSI=True,COVERAGE=False)\n",
        "show_year(2010,NDSI=True,COVERAGE=False)\n",
        "show_year(2015,NDSI=True,COVERAGE=False)\n",
        "show_year(2020,NDSI=True,COVERAGE=False)\n",
        "\n",
        "display(map)\n",
        "print(data)"
      ],
      "metadata": {
        "id": "QN6HCWSdDqvB"
      },
      "execution_count": null,
      "outputs": []
    },
    {
      "cell_type": "code",
      "source": [
        "# Para a máquina não desligar e descartar as variáveis de ambiente\n",
        "it = 0\n",
        "while True:\n",
        "  print('zzz',it)\n",
        "  time.sleep(10)\n",
        "  it += 1"
      ],
      "metadata": {
        "id": "vsCB_7WKeNLF"
      },
      "execution_count": null,
      "outputs": []
    }
  ]
}