{
  "nbformat": 4,
  "nbformat_minor": 0,
  "metadata": {
    "colab": {
      "provenance": []
    },
    "kernelspec": {
      "name": "python3",
      "display_name": "Python 3"
    },
    "language_info": {
      "name": "python"
    }
  },
  "cells": [
    {
      "cell_type": "code",
      "source": [
        "import ee\n",
        "import pandas as pd\n",
        "import numpy as np\n",
        "import matplotlib.pyplot as plt\n",
        "import subprocess\n",
        "\n",
        "from osgeo import gdal\n",
        "from osgeo import gdal_array\n",
        "from osgeo_utils import gdal_calc\n",
        "\n",
        "import os\n",
        "from typing import Tuple"
      ],
      "metadata": {
        "id": "FHZD2b5nHX-3"
      },
      "execution_count": 1,
      "outputs": []
    },
    {
      "cell_type": "code",
      "source": [
        "import os, datetime\n",
        "from typing import Tuple\n",
        "\n",
        "\n",
        "from osgeo import gdal\n",
        "\n",
        "\n",
        "def getBand(band_name: str) -> int | str | None:\n",
        "    ret = band_name.split(\".\")[0]\n",
        "    if \"QA_PIXEL\" in band_name: return \"QA\"\n",
        "    if \"NDSI\" in band_name: return \"NDSI\"\n",
        "    ret = ret[len(ret) - 2:len(ret)]\n",
        "    if ret[1].isnumeric() and ret[0] == \"B\": return int(ret[1])\n",
        "    return None\n",
        "\n",
        "\n",
        "def getNameNoBand(band_name: str) -> str:\n",
        "    return band_name[0:40]\n",
        "\n",
        "\n",
        "def isTiffImage(file: str):\n",
        "    return file[len(file) - 4:len(file)].upper() == \".TIF\" or file[len(file) - 5:len(file)].upper() == \".TIFF\"\n",
        "\n",
        "\n",
        "def doRecursiveSearch(folder: str, filter_function=None) -> list[tuple[str, str]]:\n",
        "    folders = os.walk(folder)\n",
        "    ret = []\n",
        "    for folder in folders:\n",
        "        files = os.listdir(folder[0])\n",
        "        for file in files:\n",
        "            if filter_function == None or filter_function(file):\n",
        "                ret.append((file, folder[0]))\n",
        "    return ret\n",
        "\n",
        "\n",
        "def findBandForImage(img: tuple[str, str], band_index: int | str, folder = None) -> tuple[str, str] | None:\n",
        "    if folder is None: folder = img[1]\n",
        "    files = doRecursiveSearch(folder, isTiffImage)\n",
        "    name = getNameNoBand(img[0])\n",
        "    for f in files:\n",
        "        band = getBand(f[0])\n",
        "        # print(f[0] + \" -> \" + str(band))\n",
        "        if name == getNameNoBand(f[0]) and band_index == band: return f\n",
        "    return None\n",
        "\n",
        "\n",
        "def loadBand(img: tuple[str, str]) -> gdal.Dataset | None:\n",
        "    return gdal.Open(imgPath(img))\n",
        "\n",
        "\n",
        "def imgPath(img: tuple[str,str]):\n",
        "    return img[1] + \"\\\\\" + img[0]\n",
        "\n",
        "def isFromTimePeriod(img_name: str, min: datetime.date, max: datetime.date) -> bool:\n",
        "    date = datetime.date(int(img_name[17:21]), int(img_name[21:23]), int(img_name[23:25]))\n",
        "    return isTiffImage(img_name) and (min <= date <= max)\n"
      ],
      "metadata": {
        "id": "RuFY80kzIVug"
      },
      "execution_count": 2,
      "outputs": []
    },
    {
      "cell_type": "code",
      "source": [
        "import subprocess\n",
        "\n",
        "from osgeo_utils import gdal_calc\n",
        "\n",
        "def calcNDSI(thermal, green, out_file: str):\n",
        "    gdal_calc.Calc(\"(A.astype(numpy.float64)-B)/numpy.maximum(1,A.astype(numpy.float64)+B)\",\n",
        "                   A=imgPath(thermal),\n",
        "                   B=imgPath(green),\n",
        "                   outfile=out_file,\n",
        "                   NoDataValue=-10.0,\n",
        "                   overwrite=True,\n",
        "                   quiet=True,\n",
        "                   type=\"Float64\"\n",
        "                   )\n",
        "\n",
        "\n",
        "def applyCloudMask(ndsi, quality, out_file):\n",
        "    gdal_calc.Calc(\"A*(1-((B==22280)+(B==24088)+(B==24216)+(B==24344)+(B==24472)+(B==55052)))\",\n",
        "                   A=imgPath(ndsi),\n",
        "                   B=imgPath(quality),\n",
        "                   outfile=out_file,\n",
        "                   NoDataValue=-0.0,\n",
        "                   overwrite=True,\n",
        "                   quiet=True\n",
        "                   )\n",
        "\n",
        "\n",
        "def cropToShapefile(img_from, img_to, shape):\n",
        "    print(\"Cropping \" + img_from + \" -> (\" + shape + \") -> \" + img_to)\n",
        "    subprocess.call(['gdalwarp', img_from, img_to, '-cutline', shape, '-crop_to_cutline', '-q'], stderr=None)\n",
        "\n",
        "\n",
        "def genMosaic(imgs: list[tuple[str, str]], img_to: str):\n",
        "    args = []\n",
        "    for i in imgs: args.append(i[1] + \"\\\\\" + i[0])\n",
        "    # gdal_merge.main(['','', '-o', img_to] + args)\n",
        "    subprocess.call(['gdalwarp','-r','average'] + args + [img_to], stderr=None)\n",
        "\n",
        "\n",
        "def mosaicAndShape(imgs: list[tuple[str, str]], img_to: str, shapefile: str):\n",
        "    args = []\n",
        "    print(\"generating mosaic \" + img_to)\n",
        "    for i in imgs: args.append(i[1] + \"\\\\\" + i[0])\n",
        "    subprocess.call(['gdalwarp','-cutline',shapefile,'-crop_to_cutline','-r','average','-q'] + args + [img_to], stderr=None)\n",
        "    print(args)\n"
      ],
      "metadata": {
        "id": "pHwm-1OWzCXv"
      },
      "execution_count": 3,
      "outputs": []
    },
    {
      "cell_type": "code",
      "execution_count": 11,
      "metadata": {
        "colab": {
          "base_uri": "https://localhost:8080/"
        },
        "id": "vqwGt8nWSiDr",
        "outputId": "fd26e618-7a00-48c2-eae5-91e996595d51",
        "collapsed": true
      },
      "outputs": [
        {
          "output_type": "stream",
          "name": "stdout",
          "text": [
            "Olá mundo\n",
            "Found img LANDSAT/LC08/C02/T1_L2/LC08_029026_20160501\n",
            "0\n",
            "Found img LANDSAT/LC08/C02/T1_L2/LC08_029026_20170909\n",
            "0\n",
            "Found img LANDSAT/LC08/C02/T1_L2/LC08_029026_20200512\n",
            "0\n"
          ]
        }
      ],
      "source": [
        "\n",
        "ee.Authenticate()\n",
        "ee.Initialize(project='ee-juliocesarborgesdeoliv-neve')\n",
        "\n",
        "print(\"Olá mundo\")\n",
        "\n",
        "study_area_broad = ee.Geometry.Rectangle([-104.05, 49.05, -96.55, 45.05])\n",
        "\n",
        "landsat_8 = ee.ImageCollection(\"LANDSAT/LC08/C02/T1_L2\").filterBounds(study_area_broad).filterDate('1980-01-01','2024-01-01').sort(\"CLOUD_COVER_LAND\").limit(10)\n",
        "\n",
        "for img in landsat_8.getInfo()[\"features\"]:\n",
        "    print(\"Found img \" + img[\"id\"])\n",
        "    print(img[\"properties\"][\"CLOUD_COVER_LAND\"])\n",
        "\n",
        "exit(True)\n",
        "\n",
        "# for year in range(1980, 2024):\n",
        "#   print(\"Year \" + str(year))\n",
        "#   imgs = []\n",
        "#   for month in range(1, 13, 4):\n",
        "#     print(\"Range {:02d} - {:02d}\".format(month, month + 3))\n",
        "\n",
        "# landsat_7 = ee.ImageCollection(\"LANDSAT/LE07/C02/T1_L2\")\n",
        "# landsat_5 = ee.ImageCollection(\"LANDSAT/LT05/C02/T1_L2\")\n",
        "# landsat_4 = ee.ImageCollection(\"LANDSAT/LT04/C02/T1_L2\")\n",
        "\n",
        "\n"
      ]
    },
    {
      "cell_type": "code",
      "source": [],
      "metadata": {
        "id": "10MFWCa67njI"
      },
      "execution_count": null,
      "outputs": []
    }
  ]
}